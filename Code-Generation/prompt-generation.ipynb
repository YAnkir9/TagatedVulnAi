{
 "cells": [
  {
   "cell_type": "code",
   "execution_count": 1,
   "metadata": {},
   "outputs": [
    {
     "name": "stdout",
     "output_type": "stream",
     "text": [
      "Total input-output pairs generated: 4459\n"
     ]
    }
   ],
   "source": [
    "import pandas as pd\n",
    "import json\n",
    "import itertools\n",
    "\n",
    "# Load the cleaned dataset\n",
    "cleaned_file_path = './data/processed_extracted_code_data.csv'  # Replace with your cleaned file path\n",
    "cleaned_data = pd.read_csv(cleaned_file_path)\n",
    "\n",
    "# Function to create input-output pairs\n",
    "def create_input_output_pairs(row):\n",
    "    # Fields to consider for input generation\n",
    "    fields = {\n",
    "        \"device_detail\": row['device_detail'] if pd.notna(row['device_detail']) else None,\n",
    "        \"category\": row['category'] if pd.notna(row['category']) else None,\n",
    "        \"platform\": row['platform'] if pd.notna(row['platform']) else None\n",
    "    }\n",
    "    \n",
    "    # Use 'code' if present, otherwise fallback to 'details'\n",
    "    if pd.notna(row['code']) and isinstance(row['code'], str):\n",
    "        output_text = row['code']\n",
    "    elif pd.notna(row['details']) and isinstance(row['details'], str):\n",
    "        output_text = row['details']\n",
    "    else:\n",
    "        return []  # Skip rows with invalid or missing code and details\n",
    "\n",
    "    # Generate all possible combinations of the fields (1 to 3 fields)\n",
    "    field_values = [(key, value) for key, value in fields.items() if value]\n",
    "    pairs = []\n",
    "    \n",
    "    for r in range(1, len(field_values) + 1):\n",
    "        for combination in itertools.combinations(field_values, r):\n",
    "            # Create the input text from the combination of fields\n",
    "            input_text = \"Generate code for \" + \" and \".join([f\"{field}\" for _, field in combination])\n",
    "            # Append the pair\n",
    "            pairs.append({\"input\": input_text.strip(), \"output\": output_text.strip()})\n",
    "    \n",
    "    return pairs\n",
    "\n",
    "# Generate input-output pairs for all rows\n",
    "all_pairs = []\n",
    "for _, row in cleaned_data.iterrows():\n",
    "    all_pairs.extend(create_input_output_pairs(row))\n",
    "\n",
    "# Display the total count of generated pairs\n",
    "print(f\"Total input-output pairs generated: {len(all_pairs)}\")\n",
    "\n",
    "# Save the input-output pairs to a JSON file\n",
    "output_file = './data/codegen_finetune_pairs.json'  # Save as JSON\n",
    "with open(output_file, 'w') as f:\n",
    "    json.dump(all_pairs, f, indent=4)\n",
    "\n"
   ]
  },
  {
   "cell_type": "code",
   "execution_count": null,
   "metadata": {},
   "outputs": [],
   "source": []
  }
 ],
 "metadata": {
  "kernelspec": {
   "display_name": "LLMCVEs",
   "language": "python",
   "name": "python3"
  },
  "language_info": {
   "codemirror_mode": {
    "name": "ipython",
    "version": 3
   },
   "file_extension": ".py",
   "mimetype": "text/x-python",
   "name": "python",
   "nbconvert_exporter": "python",
   "pygments_lexer": "ipython3",
   "version": "3.9.20"
  }
 },
 "nbformat": 4,
 "nbformat_minor": 2
}
